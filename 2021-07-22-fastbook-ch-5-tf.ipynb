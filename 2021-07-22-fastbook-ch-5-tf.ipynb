{
 "cells": [
  {
   "cell_type": "markdown",
   "metadata": {},
   "source": [
    "# \"Work in Progress: Recreating Fast.ai Chapter 5 Using TensorFlow/Keras\"\n",
    "> \"To test my understanding of the [Fast.ai course](https://course.fast.ai/) and to improve my TensorFlow/Keras skills, I am reimplementing chapters of the FastBook in TF/Keras. Note, this is post is a **work in progress**, and will be updated as I work on it. Started: 7/21/21. Last updated: 7/22/21.\"\n",
    "\n",
    "- toc: true\n",
    "- categories: [fastai, tensorflow, keras]"
   ]
  },
  {
   "cell_type": "markdown",
   "metadata": {},
   "source": [
    "# Image Classification"
   ]
  },
  {
   "cell_type": "code",
   "execution_count": 1,
   "metadata": {},
   "outputs": [],
   "source": [
    "import tensorflow as tf\n",
    "import numpy as np\n",
    "import matplotlib.pyplot as plt\n",
    "from PIL import Image\n",
    "from pathlib import Path\n",
    "import re"
   ]
  },
  {
   "cell_type": "markdown",
   "metadata": {},
   "source": [
    "## From Dogs and Cats to Pet Breeds"
   ]
  },
  {
   "cell_type": "code",
   "execution_count": 4,
   "metadata": {},
   "outputs": [],
   "source": [
    "path = Path(\"/home/brandon/.fastai/data/oxford-iiit-pet/images/\")"
   ]
  },
  {
   "cell_type": "code",
   "execution_count": 5,
   "metadata": {},
   "outputs": [
    {
     "data": {
      "text/plain": [
       "7393"
      ]
     },
     "execution_count": 5,
     "metadata": {},
     "output_type": "execute_result"
    }
   ],
   "source": [
    "len(list(path.iterdir()))"
   ]
  },
  {
   "cell_type": "code",
   "execution_count": 6,
   "metadata": {},
   "outputs": [
    {
     "data": {
      "text/plain": [
       "<ShuffleDataset shapes: (), types: tf.string>"
      ]
     },
     "execution_count": 6,
     "metadata": {},
     "output_type": "execute_result"
    }
   ],
   "source": [
    "data = tf.data.Dataset.list_files(str(path/\"*.jpg\"), shuffle=True, seed=42);data"
   ]
  },
  {
   "cell_type": "code",
   "execution_count": 8,
   "metadata": {},
   "outputs": [
    {
     "data": {
      "text/plain": [
       "[<tf.Tensor: shape=(), dtype=string, numpy=b'/home/brandon/.fastai/data/oxford-iiit-pet/images/Russian_Blue_67.jpg'>,\n",
       " <tf.Tensor: shape=(), dtype=string, numpy=b'/home/brandon/.fastai/data/oxford-iiit-pet/images/boxer_28.jpg'>,\n",
       " <tf.Tensor: shape=(), dtype=string, numpy=b'/home/brandon/.fastai/data/oxford-iiit-pet/images/wheaten_terrier_27.jpg'>,\n",
       " <tf.Tensor: shape=(), dtype=string, numpy=b'/home/brandon/.fastai/data/oxford-iiit-pet/images/miniature_pinscher_171.jpg'>,\n",
       " <tf.Tensor: shape=(), dtype=string, numpy=b'/home/brandon/.fastai/data/oxford-iiit-pet/images/beagle_39.jpg'>]"
      ]
     },
     "execution_count": 8,
     "metadata": {},
     "output_type": "execute_result"
    }
   ],
   "source": [
    "list(iter(data))[:5]"
   ]
  },
  {
   "cell_type": "code",
   "execution_count": 17,
   "metadata": {},
   "outputs": [
    {
     "data": {
      "text/plain": [
       "37"
      ]
     },
     "execution_count": 17,
     "metadata": {},
     "output_type": "execute_result"
    }
   ],
   "source": [
    "class_names = {re.findall(\"^(.+)_\\d+$\", f.stem)[0] for f in path.glob(\"*.jpg\")}; len(class_names)"
   ]
  },
  {
   "cell_type": "code",
   "execution_count": 24,
   "metadata": {},
   "outputs": [
    {
     "data": {
      "text/plain": [
       "array(['Abyssinian', 'Bengal', 'Birman', 'Bombay', 'British_Shorthair',\n",
       "       'Egyptian_Mau', 'Maine_Coon', 'Persian', 'Ragdoll', 'Russian_Blue',\n",
       "       'Siamese', 'Sphynx', 'american_bulldog',\n",
       "       'american_pit_bull_terrier', 'basset_hound', 'beagle', 'boxer',\n",
       "       'chihuahua', 'english_cocker_spaniel', 'english_setter',\n",
       "       'german_shorthaired', 'great_pyrenees', 'havanese',\n",
       "       'japanese_chin', 'keeshond', 'leonberger', 'miniature_pinscher',\n",
       "       'newfoundland', 'pomeranian', 'pug', 'saint_bernard', 'samoyed',\n",
       "       'scottish_terrier', 'shiba_inu', 'staffordshire_bull_terrier',\n",
       "       'wheaten_terrier', 'yorkshire_terrier'], dtype='<U26')"
      ]
     },
     "execution_count": 24,
     "metadata": {},
     "output_type": "execute_result"
    }
   ],
   "source": [
    "class_names = np.array(sorted(class_names)); class_names"
   ]
  },
  {
   "cell_type": "code",
   "execution_count": null,
   "metadata": {},
   "outputs": [],
   "source": [
    "def get_x_and_y(file):\n",
    "    \"\"\"Gets independent and dependent variables.\"\"\"\n",
    "    return file, re.findall(r\"/(.+)_\\d+.jpg\")"
   ]
  },
  {
   "cell_type": "code",
   "execution_count": null,
   "metadata": {},
   "outputs": [],
   "source": [
    "tf.strings.regex_full_match()"
   ]
  },
  {
   "cell_type": "markdown",
   "metadata": {},
   "source": [
    "## Presizing"
   ]
  },
  {
   "cell_type": "markdown",
   "metadata": {},
   "source": [
    "### Checking and Debugging a DataBlock"
   ]
  },
  {
   "cell_type": "markdown",
   "metadata": {},
   "source": [
    "## Cross-Entropy Loss"
   ]
  },
  {
   "cell_type": "markdown",
   "metadata": {},
   "source": [
    "### Viewing Activations and Labels"
   ]
  },
  {
   "cell_type": "markdown",
   "metadata": {},
   "source": [
    "### Softmax"
   ]
  },
  {
   "cell_type": "markdown",
   "metadata": {},
   "source": [
    "### Log Likelihood"
   ]
  },
  {
   "cell_type": "markdown",
   "metadata": {},
   "source": [
    "### Taking the Log"
   ]
  },
  {
   "cell_type": "markdown",
   "metadata": {},
   "source": [
    "## Model Interpretation"
   ]
  },
  {
   "cell_type": "markdown",
   "metadata": {},
   "source": [
    "## Improving Our Model"
   ]
  },
  {
   "cell_type": "markdown",
   "metadata": {},
   "source": [
    "### The Learning Rate Finder"
   ]
  },
  {
   "cell_type": "markdown",
   "metadata": {},
   "source": [
    "### Unfreezing and Transfer Learning"
   ]
  },
  {
   "cell_type": "markdown",
   "metadata": {},
   "source": [
    "### Discriminative Learning Rates"
   ]
  },
  {
   "cell_type": "markdown",
   "metadata": {},
   "source": [
    "### Selecting the Number of Epochs"
   ]
  },
  {
   "cell_type": "markdown",
   "metadata": {},
   "source": [
    "### Deeper Architectures"
   ]
  }
 ],
 "metadata": {
  "jupytext": {
   "split_at_heading": true
  },
  "kernelspec": {
   "display_name": "Python 3",
   "language": "python",
   "name": "python3"
  },
  "language_info": {
   "codemirror_mode": {
    "name": "ipython",
    "version": 3
   },
   "file_extension": ".py",
   "mimetype": "text/x-python",
   "name": "python",
   "nbconvert_exporter": "python",
   "pygments_lexer": "ipython3",
   "version": "3.9.5"
  }
 },
 "nbformat": 4,
 "nbformat_minor": 4
}
